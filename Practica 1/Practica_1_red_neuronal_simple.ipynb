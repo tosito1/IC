{
 "cells": [
  {
   "cell_type": "markdown",
   "metadata": {
    "id": "j17_BfsDlQtx"
   },
   "source": [
    "# Red Neuronal Simple"
   ]
  },
  {
   "cell_type": "markdown",
   "metadata": {
    "id": "LsBRGSjgmlaN"
   },
   "source": [
    "## Cargar los datos"
   ]
  },
  {
   "cell_type": "code",
   "execution_count": null,
   "metadata": {
    "id": "8-_S6Binmksf"
   },
   "outputs": [],
   "source": [
    "import numpy as np\n",
    "import struct\n",
    "\n",
    "def load_images(filename):\n",
    "    with open(filename, 'rb') as f:\n",
    "        magic, num_images, rows, cols = struct.unpack('>IIII', f.read(16))\n",
    "        images = np.fromfile(f, dtype=np.uint8).reshape(num_images, rows * cols)\n",
    "    return images\n",
    "\n",
    "def load_labels(filename):\n",
    "    with open(filename, 'rb') as f:\n",
    "        magic, num_labels = struct.unpack('>II', f.read(8))\n",
    "        labels = np.fromfile(f, dtype=np.uint8)\n",
    "    return labels\n",
    "\n",
    "# Cargar las imágenes y etiquetas de entrenamiento\n",
    "train_images = load_images('/content/drive/MyDrive/Colab Notebooks/IC/train-images.idx3-ubyte')\n",
    "train_labels = load_labels('/content/drive/MyDrive/Colab Notebooks/IC/train-labels.idx1-ubyte')\n",
    "\n",
    "# Cargar las imágenes y etiquetas de prueba\n",
    "test_images = load_images('/content/drive/MyDrive/Colab Notebooks/IC/t10k-images.idx3-ubyte')\n",
    "test_labels = load_labels('/content/drive/MyDrive/Colab Notebooks/IC/t10k-labels.idx1-ubyte')\n",
    "\n",
    "# Normalizar las imágenes\n",
    "train_images = train_images / 255.0\n",
    "test_images = test_images / 255.0"
   ]
  },
  {
   "cell_type": "markdown",
   "metadata": {
    "id": "kebAnQ62kWa2"
   },
   "source": [
    "##  Inicializar los parámetros"
   ]
  },
  {
   "cell_type": "code",
   "execution_count": null,
   "metadata": {
    "id": "-QUngL46jRTe"
   },
   "outputs": [],
   "source": [
    "import numpy as np\n",
    "\n",
    "def initialize_parameters_simple(input_size, output_size):\n",
    "    np.random.seed(42)\n",
    "    W = np.random.randn(input_size, output_size) * 0.01\n",
    "    b = np.zeros((1, output_size))\n",
    "    return W, b\n"
   ]
  },
  {
   "cell_type": "markdown",
   "metadata": {
    "id": "GfOSBOPmkbkb"
   },
   "source": [
    "##  Implementar la función de activación softmax"
   ]
  },
  {
   "cell_type": "code",
   "execution_count": null,
   "metadata": {
    "id": "Pp-WLLjHkeME"
   },
   "outputs": [],
   "source": [
    "def softmax(Z):\n",
    "    expZ = np.exp(Z - np.max(Z, axis=1, keepdims=True))\n",
    "    return expZ / expZ.sum(axis=1, keepdims=True)\n"
   ]
  },
  {
   "cell_type": "markdown",
   "metadata": {
    "id": "oaFLIE57kin5"
   },
   "source": [
    "## Propagación hacia adelante"
   ]
  },
  {
   "cell_type": "code",
   "execution_count": null,
   "metadata": {
    "id": "nHe-M2LtkmCw"
   },
   "outputs": [],
   "source": [
    "def forward_propagation_simple(X, W, b):\n",
    "    Z = np.dot(X, W) + b\n",
    "    A = softmax(Z)\n",
    "    return Z, A\n"
   ]
  },
  {
   "cell_type": "markdown",
   "metadata": {
    "id": "5nAZ5AVpkqS5"
   },
   "source": [
    "## Función de pérdida (Cross-Entropy)"
   ]
  },
  {
   "cell_type": "code",
   "execution_count": null,
   "metadata": {
    "id": "PlmLhzOMktCa"
   },
   "outputs": [],
   "source": [
    "def compute_loss_simple(A, Y):\n",
    "    m = Y.shape[0]\n",
    "    log_probs = -np.log(A[range(m), Y])\n",
    "    loss = np.sum(log_probs) / m\n",
    "    return loss\n"
   ]
  },
  {
   "cell_type": "markdown",
   "metadata": {
    "id": "JOGVlx73kwKI"
   },
   "source": [
    "## Propagación hacia atrás"
   ]
  },
  {
   "cell_type": "code",
   "execution_count": null,
   "metadata": {
    "id": "mYBYxSankvvU"
   },
   "outputs": [],
   "source": [
    "def backward_propagation_simple(X, Y, A):\n",
    "    m = X.shape[0]\n",
    "    dZ = A\n",
    "    dZ[range(m), Y] -= 1\n",
    "    dW = np.dot(X.T, dZ) / m\n",
    "    db = np.sum(dZ, axis=0, keepdims=True) / m\n",
    "    return dW, db\n"
   ]
  },
  {
   "cell_type": "markdown",
   "metadata": {
    "id": "L6uUV4rHk0sn"
   },
   "source": [
    "## Actualizar los parámetros"
   ]
  },
  {
   "cell_type": "code",
   "execution_count": null,
   "metadata": {
    "id": "GSVONQhpk2ZG"
   },
   "outputs": [],
   "source": [
    "def update_parameters_simple(W, b, dW, db, learning_rate):\n",
    "    W -= learning_rate * dW\n",
    "    b -= learning_rate * db\n",
    "    return W, b\n"
   ]
  },
  {
   "cell_type": "markdown",
   "metadata": {
    "id": "QVzsj_T6k5a7"
   },
   "source": [
    "## Entrenar el modelo"
   ]
  },
  {
   "cell_type": "code",
   "execution_count": null,
   "metadata": {
    "id": "MOSsUJdNk6nq"
   },
   "outputs": [],
   "source": [
    "def train_neural_network_simple(X, Y, output_size, epochs, learning_rate):\n",
    "    input_size = X.shape[1]\n",
    "    W, b = initialize_parameters_simple(input_size, output_size)\n",
    "\n",
    "    for i in range(epochs):\n",
    "        Z, A = forward_propagation_simple(X, W, b)\n",
    "        loss = compute_loss_simple(A, Y)\n",
    "        dW, db = backward_propagation_simple(X, Y, A)\n",
    "        W, b = update_parameters_simple(W, b, dW, db, learning_rate)\n",
    "\n",
    "        if i % 10 == 0:\n",
    "          print(f'Epoch {i}, Pérdida: {loss:.4f}')\n",
    "\n",
    "    return W, b\n"
   ]
  },
  {
   "cell_type": "markdown",
   "metadata": {
    "id": "s2OzGOQjlBBZ"
   },
   "source": [
    "## Parámetros del modelo"
   ]
  },
  {
   "cell_type": "code",
   "execution_count": null,
   "metadata": {
    "colab": {
     "base_uri": "https://localhost:8080/"
    },
    "id": "MB8CCOcSk_4y",
    "outputId": "ea1c9af0-570d-4e2e-a825-8a56c6616fd3"
   },
   "outputs": [
    {
     "name": "stdout",
     "output_type": "stream",
     "text": [
      "Epoch 0, Pérdida: 2.3277\n",
      "Epoch 10, Pérdida: 1.5620\n",
      "Epoch 20, Pérdida: 1.1955\n",
      "Epoch 30, Pérdida: 0.9995\n",
      "Epoch 40, Pérdida: 0.8799\n",
      "Epoch 50, Pérdida: 0.7994\n",
      "Epoch 60, Pérdida: 0.7413\n",
      "Epoch 70, Pérdida: 0.6971\n",
      "Epoch 80, Pérdida: 0.6623\n",
      "Epoch 90, Pérdida: 0.6340\n",
      "Epoch 100, Pérdida: 0.6104\n",
      "Epoch 110, Pérdida: 0.5905\n",
      "Epoch 120, Pérdida: 0.5734\n",
      "Epoch 130, Pérdida: 0.5585\n",
      "Epoch 140, Pérdida: 0.5454\n",
      "Epoch 150, Pérdida: 0.5337\n",
      "Epoch 160, Pérdida: 0.5233\n",
      "Epoch 170, Pérdida: 0.5139\n",
      "Epoch 180, Pérdida: 0.5053\n",
      "Epoch 190, Pérdida: 0.4975\n",
      "Epoch 200, Pérdida: 0.4903\n",
      "Epoch 210, Pérdida: 0.4837\n",
      "Epoch 220, Pérdida: 0.4776\n",
      "Epoch 230, Pérdida: 0.4720\n",
      "Epoch 240, Pérdida: 0.4667\n",
      "Epoch 250, Pérdida: 0.4617\n",
      "Epoch 260, Pérdida: 0.4571\n",
      "Epoch 270, Pérdida: 0.4527\n",
      "Epoch 280, Pérdida: 0.4486\n",
      "Epoch 290, Pérdida: 0.4448\n",
      "Epoch 300, Pérdida: 0.4411\n",
      "Epoch 310, Pérdida: 0.4376\n",
      "Epoch 320, Pérdida: 0.4343\n",
      "Epoch 330, Pérdida: 0.4312\n",
      "Epoch 340, Pérdida: 0.4282\n",
      "Epoch 350, Pérdida: 0.4253\n",
      "Epoch 360, Pérdida: 0.4226\n",
      "Epoch 370, Pérdida: 0.4200\n",
      "Epoch 380, Pérdida: 0.4175\n",
      "Epoch 390, Pérdida: 0.4150\n",
      "Epoch 400, Pérdida: 0.4127\n",
      "Epoch 410, Pérdida: 0.4105\n",
      "Epoch 420, Pérdida: 0.4084\n",
      "Epoch 430, Pérdida: 0.4063\n",
      "Epoch 440, Pérdida: 0.4043\n",
      "Epoch 450, Pérdida: 0.4024\n",
      "Epoch 460, Pérdida: 0.4006\n",
      "Epoch 470, Pérdida: 0.3988\n",
      "Epoch 480, Pérdida: 0.3970\n",
      "Epoch 490, Pérdida: 0.3954\n",
      "Epoch 500, Pérdida: 0.3937\n",
      "Epoch 510, Pérdida: 0.3922\n",
      "Epoch 520, Pérdida: 0.3906\n",
      "Epoch 530, Pérdida: 0.3892\n",
      "Epoch 540, Pérdida: 0.3877\n",
      "Epoch 550, Pérdida: 0.3863\n",
      "Epoch 560, Pérdida: 0.3850\n",
      "Epoch 570, Pérdida: 0.3836\n",
      "Epoch 580, Pérdida: 0.3823\n",
      "Epoch 590, Pérdida: 0.3811\n",
      "Epoch 600, Pérdida: 0.3799\n",
      "Epoch 610, Pérdida: 0.3787\n",
      "Epoch 620, Pérdida: 0.3775\n",
      "Epoch 630, Pérdida: 0.3764\n",
      "Epoch 640, Pérdida: 0.3753\n",
      "Epoch 650, Pérdida: 0.3742\n",
      "Epoch 660, Pérdida: 0.3731\n",
      "Epoch 670, Pérdida: 0.3721\n",
      "Epoch 680, Pérdida: 0.3711\n",
      "Epoch 690, Pérdida: 0.3701\n",
      "Epoch 700, Pérdida: 0.3691\n",
      "Epoch 710, Pérdida: 0.3682\n",
      "Epoch 720, Pérdida: 0.3673\n",
      "Epoch 730, Pérdida: 0.3664\n",
      "Epoch 740, Pérdida: 0.3655\n",
      "Epoch 750, Pérdida: 0.3646\n",
      "Epoch 760, Pérdida: 0.3637\n",
      "Epoch 770, Pérdida: 0.3629\n",
      "Epoch 780, Pérdida: 0.3621\n",
      "Epoch 790, Pérdida: 0.3613\n",
      "Epoch 800, Pérdida: 0.3605\n",
      "Epoch 810, Pérdida: 0.3597\n",
      "Epoch 820, Pérdida: 0.3590\n",
      "Epoch 830, Pérdida: 0.3582\n",
      "Epoch 840, Pérdida: 0.3575\n",
      "Epoch 850, Pérdida: 0.3568\n",
      "Epoch 860, Pérdida: 0.3561\n",
      "Epoch 870, Pérdida: 0.3554\n",
      "Epoch 880, Pérdida: 0.3547\n",
      "Epoch 890, Pérdida: 0.3540\n",
      "Epoch 900, Pérdida: 0.3534\n",
      "Epoch 910, Pérdida: 0.3527\n",
      "Epoch 920, Pérdida: 0.3521\n",
      "Epoch 930, Pérdida: 0.3515\n",
      "Epoch 940, Pérdida: 0.3508\n",
      "Epoch 950, Pérdida: 0.3502\n",
      "Epoch 960, Pérdida: 0.3496\n",
      "Epoch 970, Pérdida: 0.3490\n",
      "Epoch 980, Pérdida: 0.3485\n",
      "Epoch 990, Pérdida: 0.3479\n"
     ]
    }
   ],
   "source": [
    "output_size = 10\n",
    "epochs = 1000\n",
    "learning_rate = 0.1\n",
    "\n",
    "W, b = train_neural_network_simple(train_images, train_labels, output_size, epochs, learning_rate)\n"
   ]
  },
  {
   "cell_type": "markdown",
   "metadata": {
    "id": "rfLLxZpolOhR"
   },
   "source": [
    "## Evaluar el modelo"
   ]
  },
  {
   "cell_type": "code",
   "execution_count": null,
   "metadata": {
    "colab": {
     "base_uri": "https://localhost:8080/"
    },
    "id": "qpD4SpFVlPfl",
    "outputId": "10cf415d-d594-4ac1-db6d-72166a30c0f4"
   },
   "outputs": [
    {
     "name": "stdout",
     "output_type": "stream",
     "text": [
      "Precisión en el conjunto de prueba: 92.10%\n",
      "[[ 0.00496714 -0.00138264  0.00647689 ...  0.00767435 -0.00469474\n",
      "   0.0054256 ]\n",
      " [-0.00463418 -0.0046573   0.00241962 ...  0.00314247 -0.00908024\n",
      "  -0.01412304]\n",
      " [ 0.01465649 -0.00225776  0.00067528 ...  0.00375698 -0.00600639\n",
      "  -0.00291694]\n",
      " ...\n",
      " [ 0.00577072 -0.00178023  0.00155155 ... -0.00896368 -0.00448696\n",
      "   0.00234259]\n",
      " [ 0.00598996  0.00853349 -0.0049419  ... -0.00220932  0.00191124\n",
      "  -0.01149707]\n",
      " [-0.0019361   0.00744586  0.00641947 ... -0.00077821 -0.00275951\n",
      "  -0.00361724]]\n",
      "[[-0.36973165  0.34861316  0.09697155 -0.26538679  0.0341158   1.25432479\n",
      "  -0.08674373  0.62201758 -1.39322795 -0.24095275]]\n"
     ]
    }
   ],
   "source": [
    "# Hacer predicciones en el conjunto de prueba\n",
    "def predict_simple(X, W, b):\n",
    "    _, A = forward_propagation_simple(X, W, b)\n",
    "    return np.argmax(A, axis=1)\n",
    "\n",
    "# Calcular la precisión en el conjunto de prueba\n",
    "test_predictions = predict_simple(test_images, W, b)\n",
    "test_accuracy = np.mean(test_predictions == test_labels)\n",
    "print(f'Precisión en el conjunto de prueba: {test_accuracy * 100:.2f}%')\n",
    "print(W)\n",
    "print(b)\n"
   ]
  },
  {
   "cell_type": "markdown",
   "metadata": {
    "id": "8-virFNynora"
   },
   "source": [
    "## Clasificar nuevas imágenes"
   ]
  },
  {
   "cell_type": "code",
   "execution_count": null,
   "metadata": {
    "colab": {
     "base_uri": "https://localhost:8080/"
    },
    "id": "M7w40HE4npOk",
    "outputId": "39854aff-223e-4e27-e85d-f93cfa2a2042"
   },
   "outputs": [
    {
     "name": "stdout",
     "output_type": "stream",
     "text": [
      "Total de errores: 790\n",
      "Imagen 9: Dígito predicho: 6, Dígito real: 5\n",
      "Imagen 34: Dígito predicho: 6, Dígito real: 4\n",
      "Imagen 64: Dígito predicho: 2, Dígito real: 3\n",
      "Imagen 67: Dígito predicho: 7, Dígito real: 6\n",
      "Imagen 78: Dígito predicho: 7, Dígito real: 2\n",
      "Imagen 93: Dígito predicho: 4, Dígito real: 9\n",
      "Imagen 125: Dígito predicho: 4, Dígito real: 7\n",
      "Imagen 150: Dígito predicho: 9, Dígito real: 2\n",
      "Imagen 194: Dígito predicho: 3, Dígito real: 9\n",
      "Imagen 196: Dígito predicho: 5, Dígito real: 3\n"
     ]
    }
   ],
   "source": [
    "all_predictions = predict_simple(test_images, W, b)\n",
    "\n",
    "incorrect_indices = np.where(all_predictions != test_labels)[0]\n",
    "\n",
    "print(f\"Total de errores: {len(incorrect_indices)}\")\n",
    "\n",
    "# Mostrar las primeras 10 imágenes \n",
    "for i in incorrect_indices[:10]:\n",
    "    print(f'Imagen {i + 1}: Dígito predicho: {all_predictions[i]}, Dígito real: {test_labels[i]}')"
   ]
  },
  {
   "cell_type": "markdown",
   "metadata": {
    "id": "vn-2VM9frmTx"
   },
   "source": [
    "## Visualizar la imagen y la predicción"
   ]
  },
  {
   "cell_type": "code",
   "execution_count": null,
   "metadata": {
    "colab": {
     "base_uri": "https://localhost:8080/",
     "height": 494
    },
    "id": "jvxHqJL6rkE5",
    "outputId": "4e1a6680-88e3-4ab6-bfa9-13d60de90c88"
   },
   "outputs": [
    {
     "data": {
      "image/png": "[encoded data removed]",
      "text/plain": [
       "<Figure size 1000x500 with 10 Axes>"
      ]
     },
     "metadata": {},
     "output_type": "display_data"
    }
   ],
   "source": [
    "import matplotlib.pyplot as plt\n",
    "\n",
    "plt.figure(figsize=(10, 5))\n",
    "for index, i in enumerate(incorrect_indices[:10]):\n",
    "    plt.subplot(2, 5, index + 1)\n",
    "    plt.imshow(test_images[i].reshape(28, 28), cmap='gray')\n",
    "    plt.title(f'Pred: {all_predictions[i]}\\nReal: {test_labels[i]}')\n",
    "    plt.axis('off')\n",
    "plt.tight_layout()\n",
    "plt.show()"
   ]
  },
  {
   "cell_type": "markdown",
   "metadata": {
    "id": "s_sGQDAjrGI7"
   },
   "source": [
    "## Guardar los parámetros del modelo entrenado"
   ]
  },
  {
   "cell_type": "code",
   "execution_count": null,
   "metadata": {
    "id": "dzc_kp_lrGhm"
   },
   "outputs": [],
   "source": [
    "import numpy as np\n",
    "\n",
    "np.save('/content/drive/MyDrive/Colab Notebooks/IC/Red Neuronal Simple/weights-5100.npy', W)\n",
    "np.save('/content/drive/MyDrive/Colab Notebooks/IC/Red Neuronal Simple/biases-51000.npy', b)\n"
   ]
  },
  {
   "cell_type": "markdown",
   "metadata": {
    "id": "iiF64hwGz2D7"
   },
   "source": [
    "## Cargar los parámetros guardados"
   ]
  },
  {
   "cell_type": "code",
   "execution_count": null,
   "metadata": {
    "id": "vvJFN2Xsz4IU"
   },
   "outputs": [],
   "source": [
    "import numpy as np\n",
    "import struct\n",
    "\n",
    "W = np.load('/content/drive/MyDrive/Colab Notebooks/IC/Red Neuronal Simple/weights-5100.npy')\n",
    "b = np.load('/content/drive/MyDrive/Colab Notebooks/IC/Red Neuronal Simple/biases-51000.npy')\n"
   ]
  },
  {
   "cell_type": "markdown",
   "metadata": {
    "id": "8Jfag5kUvzOb"
   },
   "source": [
    "## Continuar con el entrenamiento del modelo cargado"
   ]
  },
  {
   "cell_type": "code",
   "execution_count": null,
   "metadata": {
    "id": "vb6dCfc6v1oR"
   },
   "outputs": [],
   "source": [
    "def continue_train_neural_network(X, Y, W, b, epochs, learning_rate):\n",
    "    for i in range(epochs):\n",
    "        Z, A = forward_propagation_simple(X, W, b)\n",
    "        loss = compute_loss_simple(A, Y)\n",
    "        dW, db = backward_propagation_simple(X, Y, A)\n",
    "        W, b = update_parameters_simple(W, b, dW, db, learning_rate)\n",
    "\n",
    "        if i % 10 == 0:\n",
    "            print(f'Epoch {i}, Pérdida: {loss:.4f}')\n",
    "\n",
    "    return W, b"
   ]
  },
  {
   "cell_type": "markdown",
   "metadata": {
    "id": "5iIpFajkv6vt"
   },
   "source": [
    "## Continuar el entrenamiento"
   ]
  },
  {
   "cell_type": "code",
   "execution_count": null,
   "metadata": {
    "colab": {
     "base_uri": "https://localhost:8080/"
    },
    "id": "eQ9hyef4v88c",
    "outputId": "6551d546-746a-4fac-adde-1d6efb209c75"
   },
   "outputs": [
    {
     "name": "stdout",
     "output_type": "stream",
     "text": [
      "Epoch 0, Pérdida: 0.2865\n",
      "Epoch 10, Pérdida: 0.2865\n",
      "Epoch 20, Pérdida: 0.2864\n",
      "Epoch 30, Pérdida: 0.2864\n",
      "Epoch 40, Pérdida: 0.2863\n",
      "Epoch 50, Pérdida: 0.2862\n",
      "Epoch 60, Pérdida: 0.2862\n",
      "Epoch 70, Pérdida: 0.2861\n",
      "Epoch 80, Pérdida: 0.2861\n",
      "Epoch 90, Pérdida: 0.2860\n",
      "Epoch 100, Pérdida: 0.2859\n",
      "Epoch 110, Pérdida: 0.2859\n",
      "Epoch 120, Pérdida: 0.2858\n",
      "Epoch 130, Pérdida: 0.2858\n",
      "Epoch 140, Pérdida: 0.2857\n",
      "Epoch 150, Pérdida: 0.2857\n",
      "Epoch 160, Pérdida: 0.2856\n",
      "Epoch 170, Pérdida: 0.2855\n",
      "Epoch 180, Pérdida: 0.2855\n",
      "Epoch 190, Pérdida: 0.2854\n",
      "Epoch 200, Pérdida: 0.2854\n",
      "Epoch 210, Pérdida: 0.2853\n",
      "Epoch 220, Pérdida: 0.2853\n",
      "Epoch 230, Pérdida: 0.2852\n",
      "Epoch 240, Pérdida: 0.2851\n",
      "Epoch 250, Pérdida: 0.2851\n",
      "Epoch 260, Pérdida: 0.2850\n",
      "Epoch 270, Pérdida: 0.2850\n",
      "Epoch 280, Pérdida: 0.2849\n",
      "Epoch 290, Pérdida: 0.2849\n",
      "Epoch 300, Pérdida: 0.2848\n",
      "Epoch 310, Pérdida: 0.2848\n",
      "Epoch 320, Pérdida: 0.2847\n",
      "Epoch 330, Pérdida: 0.2846\n",
      "Epoch 340, Pérdida: 0.2846\n",
      "Epoch 350, Pérdida: 0.2845\n",
      "Epoch 360, Pérdida: 0.2845\n",
      "Epoch 370, Pérdida: 0.2844\n",
      "Epoch 380, Pérdida: 0.2844\n",
      "Epoch 390, Pérdida: 0.2843\n",
      "Epoch 400, Pérdida: 0.2843\n",
      "Epoch 410, Pérdida: 0.2842\n",
      "Epoch 420, Pérdida: 0.2842\n",
      "Epoch 430, Pérdida: 0.2841\n",
      "Epoch 440, Pérdida: 0.2841\n",
      "Epoch 450, Pérdida: 0.2840\n",
      "Epoch 460, Pérdida: 0.2839\n",
      "Epoch 470, Pérdida: 0.2839\n",
      "Epoch 480, Pérdida: 0.2838\n",
      "Epoch 490, Pérdida: 0.2838\n"
     ]
    }
   ],
   "source": [
    "additional_epochs = 500\n",
    "learning_rate = 0.1\n",
    "\n",
    "W, b = continue_train_neural_network(train_images, train_labels, W, b, additional_epochs, learning_rate)"
   ]
  },
  {
   "cell_type": "markdown",
   "metadata": {
    "id": "_LGwTNbPlmQb"
   },
   "source": []
  },
  {
   "cell_type": "markdown",
   "metadata": {
    "id": "E2UUKncLeipt"
   },
   "source": [
    "# Red Neuronal Simple Óptimizada"
   ]
  },
  {
   "cell_type": "code",
   "execution_count": null,
   "metadata": {
    "colab": {
     "base_uri": "https://localhost:8080/",
     "height": 643
    },
    "id": "UKPH3nT7enOY",
    "outputId": "fd95edbc-d614-4ee9-9fd6-8ab4d784786a"
   },
   "outputs": [
    {
     "name": "stdout",
     "output_type": "stream",
     "text": [
      "Época 1/20 - Pérdida promedio: 0.3506 - Precisión (Train): 90.47% - Precisión (Test): 90.61%\n",
      "Época 2/20 - Pérdida promedio: 0.2939 - Precisión (Train): 90.97% - Precisión (Test): 91.05%\n",
      "Época 3/20 - Pérdida promedio: 0.2833 - Precisión (Train): 91.26% - Precisión (Test): 91.12%\n",
      "Época 4/20 - Pérdida promedio: 0.2773 - Precisión (Train): 91.39% - Precisión (Test): 91.10%\n",
      "Época 5/20 - Pérdida promedio: 0.2731 - Precisión (Train): 91.52% - Precisión (Test): 91.19%\n",
      "Época 6/20 - Pérdida promedio: 0.2700 - Precisión (Train): 91.61% - Precisión (Test): 91.22%\n",
      "Época 7/20 - Pérdida promedio: 0.2675 - Precisión (Train): 91.69% - Precisión (Test): 91.24%\n",
      "Época 8/20 - Pérdida promedio: 0.2654 - Precisión (Train): 91.73% - Precisión (Test): 91.24%\n",
      "Época 9/20 - Pérdida promedio: 0.2637 - Precisión (Train): 91.79% - Precisión (Test): 91.27%\n",
      "Época 10/20 - Pérdida promedio: 0.2622 - Precisión (Train): 91.82% - Precisión (Test): 91.23%\n",
      "Época 11/20 - Pérdida promedio: 0.2608 - Precisión (Train): 91.85% - Precisión (Test): 91.20%\n",
      "Época 12/20 - Pérdida promedio: 0.2596 - Precisión (Train): 91.86% - Precisión (Test): 91.17%\n",
      "Época 13/20 - Pérdida promedio: 0.2586 - Precisión (Train): 91.88% - Precisión (Test): 91.16%\n",
      "Época 14/20 - Pérdida promedio: 0.2576 - Precisión (Train): 91.88% - Precisión (Test): 91.16%\n",
      "Época 15/20 - Pérdida promedio: 0.2567 - Precisión (Train): 91.90% - Precisión (Test): 91.17%\n",
      "Época 16/20 - Pérdida promedio: 0.2559 - Precisión (Train): 91.92% - Precisión (Test): 91.15%\n",
      "Época 17/20 - Pérdida promedio: 0.2552 - Precisión (Train): 91.96% - Precisión (Test): 91.18%\n",
      "Época 18/20 - Pérdida promedio: 0.2545 - Precisión (Train): 91.99% - Precisión (Test): 91.17%\n",
      "Época 19/20 - Pérdida promedio: 0.2539 - Precisión (Train): 92.00% - Precisión (Test): 91.18%\n",
      "Época 20/20 - Pérdida promedio: 0.2533 - Precisión (Train): 92.00% - Precisión (Test): 91.22%\n"
     ]
    },
    {
     "data": {
      "image/png": "[encoded data removed]",
      "text/plain": [
       "<Figure size 1200x500 with 2 Axes>"
      ]
     },
     "metadata": {},
     "output_type": "display_data"
    }
   ],
   "source": [
    "import numpy as np\n",
    "import struct\n",
    "import matplotlib.pyplot as plt\n",
    "\n",
    "\n",
    "# Funciones para cargar imágenes y etiquetas\n",
    "def load_images(filename):\n",
    "    with open(filename, 'rb') as f:\n",
    "        magic, num_images, rows, cols = struct.unpack('>IIII', f.read(16))\n",
    "        images = np.fromfile(f, dtype=np.uint8).reshape(num_images, rows, cols)\n",
    "    return images\n",
    "\n",
    "def load_labels(filename):\n",
    "    with open(filename, 'rb') as f:\n",
    "        magic, num_labels = struct.unpack('>II', f.read(8))\n",
    "        labels = np.fromfile(f, dtype=np.uint8)\n",
    "    return labels\n",
    "\n",
    "# Cargar y preprocesar datos\n",
    "train_images = load_images('/content/drive/MyDrive/Colab Notebooks/IC/train-images.idx3-ubyte')\n",
    "train_labels = load_labels('/content/drive/MyDrive/Colab Notebooks/IC/train-labels.idx1-ubyte')\n",
    "test_images = load_images('/content/drive/MyDrive/Colab Notebooks/IC/t10k-images.idx3-ubyte')\n",
    "test_labels = load_labels('/content/drive/MyDrive/Colab Notebooks/IC/t10k-labels.idx1-ubyte')\n",
    "\n",
    "# Normalizar y redimensionar imágenes\n",
    "train_images = train_images / 255.0\n",
    "test_images = test_images / 255.0\n",
    "train_images = train_images.reshape((-1, 1, 28, 28))\n",
    "test_images = test_images.reshape((-1, 1, 28, 28))\n",
    "\n",
    "# Funciones para la Red Neuronal Simple\n",
    "def relu(x):\n",
    "    return np.maximum(0, x)\n",
    "\n",
    "def dense_layer(input_data, weights, bias):\n",
    "    return np.dot(input_data, weights.T) + bias\n",
    "\n",
    "def predict_simple(image, weights, bias):\n",
    "    output = dense_layer(image.flatten(), weights, bias)\n",
    "    return np.argmax(output)\n",
    "\n",
    "# Función de entrenamiento para capturar métricas\n",
    "def train_simple(train_images, train_labels, test_images, test_labels, epochs, learning_rate):\n",
    "    input_size = 784\n",
    "    num_classes = 10\n",
    "    weights = np.random.randn(num_classes, input_size) * 0.01\n",
    "    bias = np.zeros(num_classes)\n",
    "\n",
    "    losses = []  \n",
    "    train_accuracies = []  \n",
    "    test_accuracies = [] \n",
    "\n",
    "    for epoch in range(epochs):\n",
    "        total_loss = 0\n",
    "        for i in range(len(train_images)):\n",
    "            image = train_images[i]\n",
    "            label = train_labels[i]\n",
    "\n",
    "            # Propagación hacia adelante\n",
    "            output = dense_layer(image.flatten(), weights, bias)\n",
    "            softmax_out = np.exp(output) / np.sum(np.exp(output))  # Softmax\n",
    "\n",
    "            # Pérdida\n",
    "            loss = -np.log(softmax_out[label])\n",
    "            total_loss += loss\n",
    "\n",
    "            # Retropropagación\n",
    "            d_out = softmax_out\n",
    "            d_out[label] -= 1\n",
    "\n",
    "            # Gradientes\n",
    "            dW = np.outer(d_out, image.flatten())\n",
    "            db = d_out\n",
    "\n",
    "            # Actualización de pesos\n",
    "            weights -= learning_rate * dW\n",
    "            bias -= learning_rate * db\n",
    "\n",
    "        avg_loss = total_loss / len(train_images)\n",
    "        losses.append(avg_loss)  # pérdida promedio\n",
    "\n",
    "        # Calcular precisión en entrenamiento y prueba\n",
    "        train_accuracy = evaluate_simple_model(train_images, train_labels, weights, bias)\n",
    "        test_accuracy = evaluate_simple_model(test_images, test_labels, weights, bias)\n",
    "        train_accuracies.append(train_accuracy)\n",
    "        test_accuracies.append(test_accuracy)\n",
    "\n",
    "        print(f\"Época {epoch + 1}/{epochs} - Pérdida promedio: {avg_loss:.4f} - Precisión (Train): {train_accuracy * 100:.2f}% - Precisión (Test): {test_accuracy * 100:.2f}%\")\n",
    "\n",
    "    return weights, bias, losses, train_accuracies, test_accuracies\n",
    "\n",
    "def evaluate_simple_model(test_images, test_labels, weights, bias):\n",
    "    correct_predictions = 0\n",
    "    for i in range(len(test_images)):\n",
    "        # Aplanar la imagen\n",
    "        image = test_images[i].flatten()\n",
    "\n",
    "        # Propagación hacia adelante\n",
    "        logits = np.dot(image, weights.T) + bias\n",
    "        softmax_outs = np.exp(logits - np.max(logits))  # Estabilidad numérica\n",
    "        softmax_outs /= np.sum(softmax_outs)\n",
    "\n",
    "        # Predecir la clase\n",
    "        prediction = np.argmax(softmax_outs)\n",
    "\n",
    "        # Comparar con la etiqueta real\n",
    "        if prediction == test_labels[i]:\n",
    "            correct_predictions += 1\n",
    "\n",
    "    accuracy = correct_predictions / len(test_images)\n",
    "    return accuracy\n",
    "\n",
    "# Entrenar el modelo y recolectar métricas\n",
    "epochs = 20\n",
    "initial_learning_rate = 0.01\n",
    "weights_simple, bias_simple, losses, train_accuracies, test_accuracies = train_simple(\n",
    "    train_images, train_labels, test_images, test_labels, epochs, initial_learning_rate\n",
    ")\n",
    "\n",
    "# Graficar la pérdida y la precisión\n",
    "plt.figure(figsize=(12, 5))\n",
    "\n",
    "# Pérdida promedio\n",
    "plt.subplot(1, 2, 1)\n",
    "plt.plot(range(1, epochs + 1), losses, label=\"Pérdida promedio\", color=\"blue\")\n",
    "plt.xlabel(\"Épocas\")\n",
    "plt.ylabel(\"Pérdida\")\n",
    "plt.title(\"Pérdida promedio por época\")\n",
    "plt.grid()\n",
    "plt.legend()\n",
    "\n",
    "# Precisión\n",
    "plt.subplot(1, 2, 2)\n",
    "plt.plot(range(1, epochs + 1), [acc * 100 for acc in train_accuracies], label=\"Precisión (Train)\", color=\"green\")\n",
    "plt.plot(range(1, epochs + 1), [acc * 100 for acc in test_accuracies], label=\"Precisión (Test)\", color=\"red\")\n",
    "plt.xlabel(\"Épocas\")\n",
    "plt.ylabel(\"Precisión (%)\")\n",
    "plt.title(\"Precisión por época\")\n",
    "plt.grid()\n",
    "plt.legend()\n",
    "\n",
    "plt.tight_layout()\n",
    "plt.show()\n"
   ]
  },
  {
   "cell_type": "markdown",
   "metadata": {
    "id": "sUUuE_M_HBBI"
   },
   "source": [
    "## Guardar y Cargar Parámetros Red Neuronal Simple"
   ]
  },
  {
   "cell_type": "code",
   "execution_count": null,
   "metadata": {
    "id": "O_v_F-z7G9l3"
   },
   "outputs": [],
   "source": [
    "# Guardar parámetros de la red simple\n",
    "np.save('/content/drive/MyDrive/Colab Notebooks/IC/Redes Optimizadas/simple_model_weights-25.npy', weights_simple)\n",
    "np.save('/content/drive/MyDrive/Colab Notebooks/IC/Redes Optimizadas/simple_model_bias-25.npy', bias_simple)\n",
    "\n",
    "# Cargar parámetros de la red simple\n",
    "weights_simple = np.load('/content/drive/MyDrive/Colab Notebooks/IC/Redes Optimizadas/simple_model_weights-25.npy')\n",
    "bias_simple = np.load('/content/drive/MyDrive/Colab Notebooks/IC/Redes Optimizadas/simple_model_bias-25.npy')\n"
   ]
  }
 ],
 "metadata": {
  "accelerator": "GPU",
  "colab": {
   "gpuType": "T4",
   "provenance": []
  },
  "kernelspec": {
   "display_name": "Python 3",
   "name": "python3"
  },
  "language_info": {
   "name": "python"
  }
 },
 "nbformat": 4,
 "nbformat_minor": 0
}
