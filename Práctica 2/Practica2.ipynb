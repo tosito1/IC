{
  "cells": [
    {
      "cell_type": "markdown",
      "metadata": {
        "id": "IFjlSdwX_Uv5"
      },
      "source": [
        "# Lectura de datos desde archivo"
      ]
    },
    {
      "cell_type": "code",
      "execution_count": null,
      "metadata": {
        "id": "bn4H9ojP_a35"
      },
      "outputs": [],
      "source": [
        "import numpy as np\n",
        "import random\n",
        "\n",
        "\n",
        "data = np.loadtxt('/content/drive/MyDrive/UGR/IC/Practica2/qap.datos/tai256c.dat', skiprows=1)"
      ]
    },
    {
      "cell_type": "markdown",
      "metadata": {
        "id": "czQ7yClq_d2J"
      },
      "source": [
        "# Separación en matrices de flujos y distancias"
      ]
    },
    {
      "cell_type": "code",
      "execution_count": null,
      "metadata": {
        "id": "IVxB_VeT_f-i"
      },
      "outputs": [],
      "source": [
        "flow = np.int32(data[:256])\n",
        "distances = np.int32(data[256:])"
      ]
    },
    {
      "cell_type": "markdown",
      "metadata": {
        "id": "nIAvLLhI_h18"
      },
      "source": [
        "# Configuración de la semilla para reproducibilidad"
      ]
    },
    {
      "cell_type": "code",
      "execution_count": null,
      "metadata": {
        "id": "_Bj1dJua_kV2"
      },
      "outputs": [],
      "source": [
        "seed = 2024\n",
        "random.seed(seed)\n",
        "np.random.seed(seed)"
      ]
    },
    {
      "cell_type": "markdown",
      "metadata": {
        "id": "RUe2Psu__nXS"
      },
      "source": [
        "# Generación de población inicial de 2000 individuos"
      ]
    },
    {
      "cell_type": "code",
      "execution_count": null,
      "metadata": {
        "id": "bAcaplo1_qx9"
      },
      "outputs": [],
      "source": [
        "population = np.array([np.random.permutation(np.arange(256)) for _ in range(2000)])"
      ]
    },
    {
      "cell_type": "markdown",
      "metadata": {
        "id": "dFg_cuUa_trN"
      },
      "source": [
        "# Función de fitness eficiente usando operaciones matriciales\n"
      ]
    },
    {
      "cell_type": "code",
      "execution_count": null,
      "metadata": {
        "id": "32O_cd3r_v1E"
      },
      "outputs": [],
      "source": [
        "def fitness_pop(population, flow, distances):\n",
        "    return np.sum(flow[np.newaxis, :, :] * distances[population[:,:,np.newaxis], population[:, np.newaxis, :]], axis=(1,2))\n"
      ]
    },
    {
      "cell_type": "markdown",
      "metadata": {
        "id": "Nl5NH4uo_xiT"
      },
      "source": [
        "# Selección por torneo"
      ]
    },
    {
      "cell_type": "code",
      "execution_count": null,
      "metadata": {
        "id": "x6ohJSOX_zlI"
      },
      "outputs": [],
      "source": [
        "def selection_tournament(population, fitness_vals, k=3):\n",
        "    selected_indices = np.array([random.choices(np.arange(len(fitness_vals)), k=k, weights=1/fitness_vals)[0] for _ in range(len(population))])\n",
        "    return population[selected_indices]\n"
      ]
    },
    {
      "cell_type": "markdown",
      "metadata": {
        "id": "sJvTA-YI_2n4"
      },
      "source": [
        "# Cruce de orden (Order Crossover, OX)"
      ]
    },
    {
      "cell_type": "code",
      "execution_count": null,
      "metadata": {
        "id": "mqV34nW8BW6I"
      },
      "outputs": [],
      "source": [
        "def crossover_order(parent1, parent2):\n",
        "    n = len(parent1)\n",
        "    start, end = sorted(random.sample(range(n), 2))\n",
        "    child = -np.ones(n, dtype=int)\n",
        "    child[start:end+1] = parent1[start:end+1]\n",
        "\n",
        "    position = 0\n",
        "    for gene in parent2:\n",
        "        if gene not in child:\n",
        "            while child[position] != -1:\n",
        "                position += 1\n",
        "            child[position] = gene\n",
        "    return child\n",
        "\n",
        "def crossover_population(population, crossover_prob=0.9):\n",
        "    new_population = []\n",
        "    for _ in range(len(population) // 2):\n",
        "        parent1, parent2 = population[random.sample(range(len(population)), 2)]\n",
        "        if random.random() < crossover_prob:\n",
        "            child1 = crossover_order(parent1, parent2)\n",
        "            child2 = crossover_order(parent2, parent1)\n",
        "        else:\n",
        "            child1, child2 = parent1.copy(), parent2.copy()\n",
        "        new_population.extend([child1, child2])\n",
        "    return np.array(new_population)\n"
      ]
    },
    {
      "cell_type": "markdown",
      "metadata": {
        "id": "ZVCXEuKjBbD6"
      },
      "source": [
        "# Mutación por intercambio (Swap Mutation)"
      ]
    },
    {
      "cell_type": "code",
      "execution_count": null,
      "metadata": {
        "id": "0S3OY1-bBup0"
      },
      "outputs": [],
      "source": [
        "def mutate_population(population, mutation_prob=0.3):\n",
        "    for individual in population:\n",
        "        if random.random() < mutation_prob:\n",
        "            i, j = random.sample(range(len(individual)), 2)\n",
        "            individual[i], individual[j] = individual[j], individual[i]\n",
        "    return population"
      ]
    },
    {
      "cell_type": "markdown",
      "metadata": {
        "id": "fVTs4vu1BwYW"
      },
      "source": [
        "# Búsqueda local (2-opt limitada)"
      ]
    },
    {
      "cell_type": "code",
      "execution_count": null,
      "metadata": {
        "id": "UOmHr1KhBwIP"
      },
      "outputs": [],
      "source": [
        "def local_search_2opt_limited(permutation, flow, distances, max_iter=20):\n",
        "    n = len(permutation)\n",
        "    best_cost = calculate_cost(permutation, flow, distances)\n",
        "    for _ in range(max_iter):\n",
        "        i, j = sorted(random.sample(range(n), 2))\n",
        "        new_perm = permutation.copy()\n",
        "        new_perm[i:j+1] = list(reversed(new_perm[i:j+1]))\n",
        "        new_cost = calculate_cost(new_perm, flow, distances)\n",
        "        if new_cost < best_cost:\n",
        "            permutation = new_perm\n",
        "            best_cost = new_cost\n",
        "    return permutation\n",
        "\n",
        "def calculate_cost(permutation, flow, distances):\n",
        "    indexed_distances = distances[permutation][:, permutation]\n",
        "    cost = np.sum(flow * indexed_distances)\n",
        "    return cost"
      ]
    },
    {
      "cell_type": "markdown",
      "metadata": {
        "id": "WAj62NdABzxu"
      },
      "source": [
        "# Aplicar búsqueda local a los mejores individuos"
      ]
    },
    {
      "cell_type": "code",
      "execution_count": null,
      "metadata": {
        "id": "yiVIJSs6B44w"
      },
      "outputs": [],
      "source": [
        "def apply_2opt_to_elite(population, fitness_vals, flow, distances, elite_ratio=0.2):\n",
        "    elite_size = int(len(population) * elite_ratio)\n",
        "    elite_indices = np.argsort(fitness_vals)[:elite_size]\n",
        "    for idx in elite_indices:\n",
        "        population[idx] = local_search_2opt_limited(population[idx], flow, distances)\n",
        "    return population"
      ]
    },
    {
      "cell_type": "markdown",
      "metadata": {
        "id": "4jRQeD93B6fw"
      },
      "source": [
        "# Ciclo evolutivo"
      ]
    },
    {
      "cell_type": "code",
      "execution_count": null,
      "metadata": {
        "colab": {
          "background_save": true,
          "base_uri": "https://localhost:8080/"
        },
        "id": "aeaPs07n7aiX",
        "outputId": "98dc4103-83f9-4856-f35c-a641bd70201c"
      },
      "outputs": [
        {
          "name": "stdout",
          "output_type": "stream",
          "text": [
            "Generación 1: Mejor Fitness = 50044002\n",
            "Generación 2: Mejor Fitness = 49759852\n",
            "Generación 3: Mejor Fitness = 49759852\n",
            "Generación 4: Mejor Fitness = 49759852\n",
            "Generación 5: Mejor Fitness = 49549784\n",
            "Generación 6: Mejor Fitness = 49218524\n",
            "Generación 7: Mejor Fitness = 49218524\n",
            "Generación 8: Mejor Fitness = 49218524\n",
            "Generación 9: Mejor Fitness = 49218524\n",
            "Generación 10: Mejor Fitness = 49218524\n",
            "Generación 11: Mejor Fitness = 49218524\n",
            "Generación 12: Mejor Fitness = 49218524\n",
            "Generación 13: Mejor Fitness = 49218524\n",
            "Generación 14: Mejor Fitness = 49218524\n",
            "Generación 15: Mejor Fitness = 49218524\n",
            "Generación 16: Mejor Fitness = 49218524\n",
            "Generación 17: Mejor Fitness = 49218524\n",
            "Generación 18: Mejor Fitness = 49218524\n",
            "Generación 19: Mejor Fitness = 49218524\n",
            "Generación 20: Mejor Fitness = 49218524\n",
            "Generación 21: Mejor Fitness = 49218524\n",
            "Generación 22: Mejor Fitness = 49218524\n",
            "Generación 23: Mejor Fitness = 49218524\n",
            "Generación 24: Mejor Fitness = 49218524\n",
            "Generación 25: Mejor Fitness = 49164536\n",
            "Generación 26: Mejor Fitness = 49164536\n",
            "Generación 27: Mejor Fitness = 49164536\n",
            "Generación 28: Mejor Fitness = 49164536\n",
            "Generación 29: Mejor Fitness = 49161486\n",
            "Generación 30: Mejor Fitness = 49161486\n",
            "Generación 31: Mejor Fitness = 49161486\n",
            "Generación 32: Mejor Fitness = 49161486\n",
            "Generación 33: Mejor Fitness = 49161486\n",
            "Generación 34: Mejor Fitness = 49161486\n",
            "Generación 35: Mejor Fitness = 49161486\n",
            "Generación 36: Mejor Fitness = 49161486\n",
            "Generación 37: Mejor Fitness = 49161486\n",
            "Generación 38: Mejor Fitness = 49161486\n",
            "Generación 39: Mejor Fitness = 49161486\n",
            "Generación 40: Mejor Fitness = 49161486\n",
            "Generación 41: Mejor Fitness = 49161486\n",
            "Generación 42: Mejor Fitness = 49161486\n",
            "Generación 43: Mejor Fitness = 49161486\n",
            "Generación 44: Mejor Fitness = 49161486\n",
            "Generación 45: Mejor Fitness = 49161486\n",
            "Generación 46: Mejor Fitness = 49161486\n",
            "Generación 47: Mejor Fitness = 49161486\n",
            "Generación 48: Mejor Fitness = 49161486\n",
            "Generación 49: Mejor Fitness = 49161486\n",
            "Generación 50: Mejor Fitness = 49161486\n",
            "Generación 51: Mejor Fitness = 49161486\n",
            "Generación 52: Mejor Fitness = 49161486\n",
            "Generación 53: Mejor Fitness = 49161486\n",
            "Generación 54: Mejor Fitness = 49161486\n",
            "Generación 55: Mejor Fitness = 49161486\n",
            "Generación 56: Mejor Fitness = 49161486\n",
            "Generación 57: Mejor Fitness = 49161486\n",
            "Generación 58: Mejor Fitness = 49161486\n",
            "Generación 59: Mejor Fitness = 49161486\n",
            "Generación 60: Mejor Fitness = 49161486\n",
            "Generación 61: Mejor Fitness = 49161486\n",
            "Generación 62: Mejor Fitness = 49161486\n",
            "Generación 63: Mejor Fitness = 49161486\n",
            "Generación 64: Mejor Fitness = 49161486\n",
            "Generación 65: Mejor Fitness = 49161486\n",
            "Generación 66: Mejor Fitness = 49161486\n",
            "Generación 67: Mejor Fitness = 49161486\n",
            "Generación 68: Mejor Fitness = 49161486\n",
            "Generación 69: Mejor Fitness = 49161486\n",
            "Generación 70: Mejor Fitness = 49161486\n",
            "Generación 71: Mejor Fitness = 49161486\n",
            "Generación 72: Mejor Fitness = 49161486\n",
            "Generación 73: Mejor Fitness = 49161486\n",
            "Generación 74: Mejor Fitness = 49161486\n",
            "Generación 75: Mejor Fitness = 49161486\n",
            "Generación 76: Mejor Fitness = 49161486\n",
            "Generación 77: Mejor Fitness = 49161486\n",
            "Generación 78: Mejor Fitness = 49161486\n",
            "Generación 79: Mejor Fitness = 49161486\n",
            "Generación 80: Mejor Fitness = 49161486\n",
            "Generación 81: Mejor Fitness = 49161486\n",
            "Generación 82: Mejor Fitness = 49161486\n",
            "Generación 83: Mejor Fitness = 49161486\n",
            "Generación 84: Mejor Fitness = 49161486\n",
            "Generación 85: Mejor Fitness = 49161486\n",
            "Generación 86: Mejor Fitness = 49161486\n",
            "Generación 87: Mejor Fitness = 49161486\n",
            "Generación 88: Mejor Fitness = 49161486\n",
            "Generación 89: Mejor Fitness = 49161486\n",
            "Generación 90: Mejor Fitness = 49161486\n",
            "Generación 91: Mejor Fitness = 49161486\n",
            "Generación 92: Mejor Fitness = 49161486\n",
            "Generación 93: Mejor Fitness = 49161486\n",
            "Generación 94: Mejor Fitness = 49161486\n",
            "Generación 95: Mejor Fitness = 49161486\n",
            "Generación 96: Mejor Fitness = 49161486\n",
            "Generación 97: Mejor Fitness = 49161486\n",
            "Generación 98: Mejor Fitness = 49161486\n",
            "Generación 99: Mejor Fitness = 49161486\n",
            "Generación 100: Mejor Fitness = 49161486\n",
            "Generación 101: Mejor Fitness = 49161486\n",
            "Generación 102: Mejor Fitness = 49161486\n",
            "Generación 103: Mejor Fitness = 49161486\n",
            "Generación 104: Mejor Fitness = 49161486\n",
            "Generación 105: Mejor Fitness = 49161486\n",
            "Generación 106: Mejor Fitness = 49161486\n",
            "Generación 107: Mejor Fitness = 49161486\n",
            "Generación 108: Mejor Fitness = 49161486\n",
            "Generación 109: Mejor Fitness = 49161486\n",
            "Generación 110: Mejor Fitness = 49161486\n",
            "Generación 111: Mejor Fitness = 49161486\n",
            "Generación 112: Mejor Fitness = 49161486\n",
            "Generación 113: Mejor Fitness = 49161486\n",
            "Generación 114: Mejor Fitness = 49161486\n",
            "Generación 115: Mejor Fitness = 49161486\n",
            "Generación 116: Mejor Fitness = 49161486\n",
            "Generación 117: Mejor Fitness = 49161486\n",
            "Generación 118: Mejor Fitness = 49161486\n",
            "Generación 119: Mejor Fitness = 49161486\n",
            "Generación 120: Mejor Fitness = 49161486\n",
            "Generación 121: Mejor Fitness = 49161486\n",
            "Generación 122: Mejor Fitness = 49161486\n",
            "Generación 123: Mejor Fitness = 49161486\n",
            "Generación 124: Mejor Fitness = 49161486\n",
            "Generación 125: Mejor Fitness = 49161486\n",
            "Generación 126: Mejor Fitness = 49161486\n",
            "Generación 127: Mejor Fitness = 49161486\n",
            "Generación 128: Mejor Fitness = 49161486\n",
            "Generación 129: Mejor Fitness = 49161486\n",
            "Generación 130: Mejor Fitness = 49161486\n",
            "Generación 131: Mejor Fitness = 49161486\n",
            "Generación 132: Mejor Fitness = 49161486\n",
            "Generación 133: Mejor Fitness = 49161486\n",
            "Generación 134: Mejor Fitness = 49161486\n",
            "Generación 135: Mejor Fitness = 49161486\n",
            "Generación 136: Mejor Fitness = 49161486\n",
            "Generación 137: Mejor Fitness = 49161486\n",
            "Generación 138: Mejor Fitness = 49161486\n",
            "Generación 139: Mejor Fitness = 49161486\n",
            "Generación 140: Mejor Fitness = 49161486\n",
            "Generación 141: Mejor Fitness = 49161486\n",
            "Generación 142: Mejor Fitness = 49161486\n",
            "Generación 143: Mejor Fitness = 49161486\n",
            "Generación 144: Mejor Fitness = 49161486\n",
            "Generación 145: Mejor Fitness = 49161486\n",
            "Generación 146: Mejor Fitness = 49161486\n",
            "Generación 147: Mejor Fitness = 49161486\n",
            "Generación 148: Mejor Fitness = 49161486\n",
            "Generación 149: Mejor Fitness = 49161486\n",
            "Generación 150: Mejor Fitness = 49161486\n",
            "Generación 151: Mejor Fitness = 49161486\n",
            "Generación 152: Mejor Fitness = 49161486\n",
            "Generación 153: Mejor Fitness = 49161486\n",
            "Generación 154: Mejor Fitness = 49014404\n",
            "Generación 155: Mejor Fitness = 49014404\n",
            "Generación 156: Mejor Fitness = 49014404\n",
            "Generación 157: Mejor Fitness = 49014404\n",
            "Generación 158: Mejor Fitness = 49014404\n",
            "Generación 159: Mejor Fitness = 49014404\n",
            "Generación 160: Mejor Fitness = 49014404\n",
            "Generación 161: Mejor Fitness = 49014404\n",
            "Generación 162: Mejor Fitness = 49014404\n",
            "Generación 163: Mejor Fitness = 49014404\n",
            "Generación 164: Mejor Fitness = 49014404\n",
            "Generación 165: Mejor Fitness = 49014404\n",
            "Generación 166: Mejor Fitness = 49014404\n",
            "Generación 167: Mejor Fitness = 49014404\n",
            "Generación 168: Mejor Fitness = 49014404\n",
            "Generación 169: Mejor Fitness = 49014404\n",
            "Generación 170: Mejor Fitness = 49014404\n",
            "Generación 171: Mejor Fitness = 49014404\n",
            "Generación 172: Mejor Fitness = 49014404\n",
            "Generación 173: Mejor Fitness = 49014404\n",
            "Generación 174: Mejor Fitness = 49014404\n",
            "Generación 175: Mejor Fitness = 49014404\n",
            "Generación 176: Mejor Fitness = 49014404\n",
            "Generación 177: Mejor Fitness = 49014404\n",
            "Generación 178: Mejor Fitness = 49014404\n",
            "Generación 179: Mejor Fitness = 49014404\n",
            "Generación 180: Mejor Fitness = 49014404\n",
            "Generación 181: Mejor Fitness = 49014404\n",
            "Generación 182: Mejor Fitness = 49014404\n",
            "Generación 183: Mejor Fitness = 49014404\n",
            "Generación 184: Mejor Fitness = 49014404\n",
            "Generación 185: Mejor Fitness = 49014404\n",
            "Generación 186: Mejor Fitness = 49014404\n",
            "Generación 187: Mejor Fitness = 49014404\n",
            "Generación 188: Mejor Fitness = 49014404\n",
            "Generación 189: Mejor Fitness = 49014404\n",
            "Generación 190: Mejor Fitness = 49014404\n",
            "Generación 191: Mejor Fitness = 49014404\n",
            "Generación 192: Mejor Fitness = 49014404\n",
            "Generación 193: Mejor Fitness = 49014404\n",
            "Generación 194: Mejor Fitness = 49014404\n",
            "Generación 195: Mejor Fitness = 49014404\n",
            "Generación 196: Mejor Fitness = 49014404\n",
            "Generación 197: Mejor Fitness = 49014404\n",
            "Generación 198: Mejor Fitness = 49014404\n",
            "Generación 199: Mejor Fitness = 49014404\n",
            "Generación 200: Mejor Fitness = 49014404\n",
            "Mejor solución encontrada: [246 167  89  94 103 219  29 212 146 242  85 243   7 247 142 123  60 100\n",
            "  82 241 138 198  65  31 201  37 158 166  80 252  74   4  63  15 159 194\n",
            "  24 176 126  43  99  42   6 118 112 234  55 156 173  67 120 209 164 160\n",
            "  21 129 184 211 124 163 206  76 205 187  41 215 169  54  79  27 106 200\n",
            " 239  51 165 208 136  10 133 108  92 238 253 102 179 161 191 148  71 249\n",
            " 155  32  44 214  66  12  88 186 225  17 147 135  22 170  78  25 254 233\n",
            " 244 229  81   1 130  16 216  45 251 255 105  50  23  14 195  13  35 162\n",
            "   8  48  98 127  58  18 172 240  87 157  34 250 109  11   2   5  91  59\n",
            " 192 204 221  40  36  77  38  46 207  20 199 121 182  26 128  28 115 111\n",
            " 180  73  30 217 168  75 131 218 196  61 154  95 193 177 175  19  47 230\n",
            " 113 107 144 110  84 236 139 190 141 185 117 223 143  62 228 183  33  70\n",
            " 226 232  56 122  53  68 151 245 152 189  69 114 119  57 149  96  83 188\n",
            " 132 104 222  90 145 213 116 224 197 202   3  52 235 137  97 153 178 171\n",
            " 140  49 210  72 237  39 101  64 220  86   0 231 150 248 174 227  93   9\n",
            " 125 203 134 181]\n",
            "Costo asociado: 49014404\n"
          ]
        }
      ],
      "source": [
        "generations = 200\n",
        "crossover_prob = 0.9\n",
        "mutation_prob = 0.3\n",
        "\n",
        "best_solution = None\n",
        "best_fitness = float('inf')\n",
        "\n",
        "fitness_vals = fitness_pop(population, flow, distances)\n",
        "\n",
        "for generation in range(generations):\n",
        "    # Selección\n",
        "    selected_population = selection_tournament(population, fitness_vals)\n",
        "\n",
        "    # Cruce\n",
        "    offspring = crossover_population(selected_population, crossover_prob)\n",
        "\n",
        "    # Mutación\n",
        "    population = mutate_population(offspring, mutation_prob)\n",
        "\n",
        "    # Aplicar búsqueda local a la élite\n",
        "    population = apply_2opt_to_elite(population, fitness_vals, flow, distances, elite_ratio=0.2)\n",
        "\n",
        "    # Recalcular fitness\n",
        "    fitness_vals = fitness_pop(population, flow, distances)\n",
        "\n",
        "    # Guardar el mejor individuo\n",
        "    gen_best_fitness = fitness_vals.min()\n",
        "    if gen_best_fitness < best_fitness:\n",
        "        best_fitness = gen_best_fitness\n",
        "        best_solution = population[np.argmin(fitness_vals)]\n",
        "\n",
        "    print(f\"Generación {generation + 1}: Mejor Fitness = {best_fitness}\")\n",
        "    if best_fitness <= 44759294:\n",
        "        print(\"Objetivo alcanzado, deteniendo el proceso.\")\n",
        "        break\n",
        "\n",
        "print(\"Mejor solución encontrada:\", best_solution)\n",
        "print(\"Costo asociado:\", best_fitness)\n"
      ]
    },
    {
      "cell_type": "markdown",
      "metadata": {
        "id": "ILJBMroSejvW"
      },
      "source": []
    }
  ],
  "metadata": {
    "accelerator": "GPU",
    "colab": {
      "gpuType": "T4",
      "provenance": []
    },
    "kernelspec": {
      "display_name": "Python 3",
      "name": "python3"
    },
    "language_info": {
      "name": "python"
    }
  },
  "nbformat": 4,
  "nbformat_minor": 0
}