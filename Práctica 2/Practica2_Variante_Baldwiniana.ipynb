{
  "nbformat": 4,
  "nbformat_minor": 0,
  "metadata": {
    "colab": {
      "provenance": [],
      "gpuType": "T4"
    },
    "kernelspec": {
      "name": "python3",
      "display_name": "Python 3"
    },
    "language_info": {
      "name": "python"
    },
    "accelerator": "GPU"
  },
  "cells": [
    {
      "cell_type": "markdown",
      "source": [
        "# Lectura de datos desde archivo"
      ],
      "metadata": {
        "id": "sipnOlT5CP-c"
      }
    },
    {
      "cell_type": "code",
      "source": [
        "import numpy as np\n",
        "import random\n",
        "\n",
        "\n",
        "data = np.loadtxt('/content/drive/MyDrive/UGR/IC/Practica2/qap.datos/tai256c.dat', skiprows=1)"
      ],
      "metadata": {
        "id": "1P3qZJMoCRF4"
      },
      "execution_count": null,
      "outputs": []
    },
    {
      "cell_type": "markdown",
      "source": [
        "# Separación en matrices de flujos y distancias"
      ],
      "metadata": {
        "id": "ec7ycnKYCT87"
      }
    },
    {
      "cell_type": "code",
      "source": [
        "flow = np.int32(data[:256])\n",
        "distances = np.int32(data[256:])"
      ],
      "metadata": {
        "id": "5FNTr-X3CVjW"
      },
      "execution_count": null,
      "outputs": []
    },
    {
      "cell_type": "markdown",
      "source": [
        "# Configuración de la semilla para reproducibilidad"
      ],
      "metadata": {
        "id": "BdFT2AJgCXwJ"
      }
    },
    {
      "cell_type": "code",
      "source": [
        "seed = 2024\n",
        "random.seed(seed)\n",
        "np.random.seed(seed)"
      ],
      "metadata": {
        "id": "g0qWSDH-CYfO"
      },
      "execution_count": null,
      "outputs": []
    },
    {
      "cell_type": "markdown",
      "source": [
        "# Generación de población inicial de 2000 individuos"
      ],
      "metadata": {
        "id": "TIH976PdCbUU"
      }
    },
    {
      "cell_type": "code",
      "source": [
        "population = np.array([np.random.permutation(np.arange(256)) for _ in range(2000)])"
      ],
      "metadata": {
        "id": "muUgeRdDCdhp"
      },
      "execution_count": null,
      "outputs": []
    },
    {
      "cell_type": "markdown",
      "source": [
        "# Función de fitness eficiente usando operaciones matriciales"
      ],
      "metadata": {
        "id": "eGEBSSHyCfHC"
      }
    },
    {
      "cell_type": "code",
      "source": [
        "def fitness_pop(population, flow, distances):\n",
        "    return np.sum(flow[np.newaxis, :, :] * distances[population[:,:,np.newaxis], population[:, np.newaxis, :]], axis=(1,2))"
      ],
      "metadata": {
        "id": "0Bo0yCTMCi_Z"
      },
      "execution_count": null,
      "outputs": []
    },
    {
      "cell_type": "markdown",
      "source": [
        "# Selección por torneo"
      ],
      "metadata": {
        "id": "2BXaBNnUCkWw"
      }
    },
    {
      "cell_type": "code",
      "source": [
        "def selection_tournament(population, fitness_vals, k=3):\n",
        "    selected_indices = np.array([random.choices(np.arange(len(fitness_vals)), k=k, weights=1/fitness_vals)[0] for _ in range(len(population))])\n",
        "    return population[selected_indices]"
      ],
      "metadata": {
        "id": "ftJhS_dVCmOF"
      },
      "execution_count": null,
      "outputs": []
    },
    {
      "cell_type": "markdown",
      "source": [
        "# Cruce de orden (Order Crossover, OX)"
      ],
      "metadata": {
        "id": "3iWQS-oQCnv3"
      }
    },
    {
      "cell_type": "code",
      "source": [
        "def crossover_order(parent1, parent2):\n",
        "    n = len(parent1)\n",
        "    start, end = sorted(random.sample(range(n), 2))\n",
        "    child = -np.ones(n, dtype=int)\n",
        "    child[start:end+1] = parent1[start:end+1]\n",
        "\n",
        "    position = 0\n",
        "    for gene in parent2:\n",
        "        if gene not in child:\n",
        "            while child[position] != -1:\n",
        "                position += 1\n",
        "            child[position] = gene\n",
        "    return child\n",
        "\n",
        "def crossover_population(population, crossover_prob=0.9):\n",
        "    new_population = []\n",
        "    for _ in range(len(population) // 2):\n",
        "        parent1, parent2 = population[random.sample(range(len(population)), 2)]\n",
        "        if random.random() < crossover_prob:\n",
        "            child1 = crossover_order(parent1, parent2)\n",
        "            child2 = crossover_order(parent2, parent1)\n",
        "        else:\n",
        "            child1, child2 = parent1.copy(), parent2.copy()\n",
        "        new_population.extend([child1, child2])\n",
        "    return np.array(new_population)\n"
      ],
      "metadata": {
        "id": "TXPSQpbNCqsB"
      },
      "execution_count": null,
      "outputs": []
    },
    {
      "cell_type": "markdown",
      "source": [
        "# Mutación por intercambio (Swap Mutation)\n"
      ],
      "metadata": {
        "id": "9ut_9c7lCscj"
      }
    },
    {
      "cell_type": "code",
      "source": [
        "def mutate_population(population, mutation_prob=0.3):\n",
        "    for individual in population:\n",
        "        if random.random() < mutation_prob:\n",
        "            i, j = random.sample(range(len(individual)), 2)\n",
        "            individual[i], individual[j] = individual[j], individual[i]\n",
        "    return population"
      ],
      "metadata": {
        "id": "57ceMakMCtvi"
      },
      "execution_count": null,
      "outputs": []
    },
    {
      "cell_type": "markdown",
      "source": [
        "# Búsqueda local (2-opt limitada)"
      ],
      "metadata": {
        "id": "AZufy2t7CvAW"
      }
    },
    {
      "cell_type": "code",
      "source": [
        "def local_search_2opt_limited(permutation, flow, distances, max_iter=20):\n",
        "    n = len(permutation)\n",
        "    best_cost = calculate_cost(permutation, flow, distances)\n",
        "    for _ in range(max_iter):\n",
        "        i, j = sorted(random.sample(range(n), 2))\n",
        "        new_perm = permutation.copy()\n",
        "        new_perm[i:j+1] = list(reversed(new_perm[i:j+1]))\n",
        "        new_cost = calculate_cost(new_perm, flow, distances)\n",
        "        if new_cost < best_cost:\n",
        "            permutation = new_perm\n",
        "            best_cost = new_cost\n",
        "    return permutation\n",
        "\n",
        "def calculate_cost(permutation, flow, distances):\n",
        "    indexed_distances = distances[permutation][:, permutation]\n",
        "    cost = np.sum(flow * indexed_distances)\n",
        "    return cost"
      ],
      "metadata": {
        "id": "DykvWJshCzbW"
      },
      "execution_count": null,
      "outputs": []
    },
    {
      "cell_type": "markdown",
      "source": [
        "# Variante Baldwiniana: aplicar la búsqueda local antes de la selección"
      ],
      "metadata": {
        "id": "IXPfzkJZC-vf"
      }
    },
    {
      "cell_type": "code",
      "source": [
        "def apply_baldwinian_search(population, flow, distances, max_iter=20):\n",
        "    # Mejorar cada individuo con búsqueda local antes de la selección\n",
        "    improved_population = []\n",
        "    for individual in population:\n",
        "        improved_individual = local_search_2opt_limited(individual, flow, distances, max_iter)\n",
        "        improved_population.append(improved_individual)\n",
        "    return np.array(improved_population)"
      ],
      "metadata": {
        "id": "VEtlBFk1DApe"
      },
      "execution_count": null,
      "outputs": []
    },
    {
      "cell_type": "markdown",
      "source": [
        "# Ciclo evolutivo"
      ],
      "metadata": {
        "id": "XBkfN7H2DDMn"
      }
    },
    {
      "cell_type": "code",
      "execution_count": null,
      "metadata": {
        "colab": {
          "base_uri": "https://localhost:8080/"
        },
        "id": "X36l6EzSSU06",
        "outputId": "226f3a3c-cabd-48e8-9460-e6917688be3b"
      },
      "outputs": [
        {
          "output_type": "stream",
          "name": "stdout",
          "text": [
            "Generación 1: Mejor Fitness = 50066808\n",
            "Generación 2: Mejor Fitness = 49998040\n",
            "Generación 3: Mejor Fitness = 49998040\n",
            "Generación 4: Mejor Fitness = 49678946\n",
            "Generación 5: Mejor Fitness = 49643154\n",
            "Generación 6: Mejor Fitness = 49643154\n",
            "Generación 7: Mejor Fitness = 49363856\n",
            "Generación 8: Mejor Fitness = 49363856\n",
            "Generación 9: Mejor Fitness = 49363856\n",
            "Generación 10: Mejor Fitness = 49363856\n",
            "Generación 11: Mejor Fitness = 49363856\n",
            "Generación 12: Mejor Fitness = 49363856\n",
            "Generación 13: Mejor Fitness = 49363856\n",
            "Generación 14: Mejor Fitness = 49363856\n",
            "Generación 15: Mejor Fitness = 49363856\n",
            "Generación 16: Mejor Fitness = 49363856\n",
            "Generación 17: Mejor Fitness = 49363856\n",
            "Generación 18: Mejor Fitness = 49363856\n",
            "Generación 19: Mejor Fitness = 49363856\n",
            "Generación 20: Mejor Fitness = 49363856\n",
            "Generación 21: Mejor Fitness = 49363856\n",
            "Generación 22: Mejor Fitness = 49363856\n",
            "Generación 23: Mejor Fitness = 49363856\n",
            "Generación 24: Mejor Fitness = 49363856\n",
            "Generación 25: Mejor Fitness = 49363856\n",
            "Generación 26: Mejor Fitness = 49363856\n",
            "Generación 27: Mejor Fitness = 49363856\n",
            "Generación 28: Mejor Fitness = 49363856\n",
            "Generación 29: Mejor Fitness = 49363856\n",
            "Generación 30: Mejor Fitness = 49363856\n",
            "Generación 31: Mejor Fitness = 49363856\n",
            "Generación 32: Mejor Fitness = 48920496\n",
            "Generación 33: Mejor Fitness = 48920496\n",
            "Generación 34: Mejor Fitness = 48920496\n",
            "Generación 35: Mejor Fitness = 48920496\n",
            "Generación 36: Mejor Fitness = 48920496\n",
            "Generación 37: Mejor Fitness = 48920496\n",
            "Generación 38: Mejor Fitness = 48920496\n",
            "Generación 39: Mejor Fitness = 48920496\n",
            "Generación 40: Mejor Fitness = 48920496\n",
            "Generación 41: Mejor Fitness = 48920496\n",
            "Generación 42: Mejor Fitness = 48920496\n",
            "Generación 43: Mejor Fitness = 48920496\n",
            "Generación 44: Mejor Fitness = 48920496\n",
            "Generación 45: Mejor Fitness = 48920496\n",
            "Generación 46: Mejor Fitness = 48920496\n",
            "Generación 47: Mejor Fitness = 48920496\n",
            "Generación 48: Mejor Fitness = 48920496\n",
            "Generación 49: Mejor Fitness = 48920496\n",
            "Generación 50: Mejor Fitness = 48920496\n",
            "Generación 51: Mejor Fitness = 48920496\n",
            "Generación 52: Mejor Fitness = 48920496\n",
            "Generación 53: Mejor Fitness = 48920496\n",
            "Generación 54: Mejor Fitness = 48920496\n",
            "Generación 55: Mejor Fitness = 48920496\n",
            "Generación 56: Mejor Fitness = 48920496\n",
            "Generación 57: Mejor Fitness = 48920496\n",
            "Generación 58: Mejor Fitness = 48920496\n",
            "Generación 59: Mejor Fitness = 48920496\n",
            "Generación 60: Mejor Fitness = 48920496\n",
            "Generación 61: Mejor Fitness = 48920496\n",
            "Generación 62: Mejor Fitness = 48920496\n",
            "Generación 63: Mejor Fitness = 48920496\n",
            "Generación 64: Mejor Fitness = 48920496\n",
            "Generación 65: Mejor Fitness = 48920496\n",
            "Generación 66: Mejor Fitness = 48920496\n",
            "Generación 67: Mejor Fitness = 48920496\n",
            "Generación 68: Mejor Fitness = 48920496\n",
            "Generación 69: Mejor Fitness = 48920496\n",
            "Generación 70: Mejor Fitness = 48920496\n",
            "Generación 71: Mejor Fitness = 48920496\n",
            "Generación 72: Mejor Fitness = 48920496\n",
            "Generación 73: Mejor Fitness = 48920496\n",
            "Generación 74: Mejor Fitness = 48920496\n",
            "Generación 75: Mejor Fitness = 48920496\n",
            "Generación 76: Mejor Fitness = 48920496\n",
            "Generación 77: Mejor Fitness = 48920496\n",
            "Generación 78: Mejor Fitness = 48920496\n",
            "Generación 79: Mejor Fitness = 48920496\n",
            "Generación 80: Mejor Fitness = 48920496\n",
            "Generación 81: Mejor Fitness = 48920496\n",
            "Generación 82: Mejor Fitness = 48920496\n",
            "Generación 83: Mejor Fitness = 48920496\n",
            "Generación 84: Mejor Fitness = 48920496\n",
            "Generación 85: Mejor Fitness = 48920496\n",
            "Generación 86: Mejor Fitness = 48920496\n",
            "Generación 87: Mejor Fitness = 48920496\n",
            "Generación 88: Mejor Fitness = 48920496\n",
            "Generación 89: Mejor Fitness = 48920496\n",
            "Generación 90: Mejor Fitness = 48920496\n",
            "Generación 91: Mejor Fitness = 48920496\n",
            "Generación 92: Mejor Fitness = 48920496\n",
            "Generación 93: Mejor Fitness = 48920496\n",
            "Generación 94: Mejor Fitness = 48920496\n",
            "Generación 95: Mejor Fitness = 48920496\n",
            "Generación 96: Mejor Fitness = 48920496\n",
            "Generación 97: Mejor Fitness = 48920496\n",
            "Generación 98: Mejor Fitness = 48920496\n",
            "Generación 99: Mejor Fitness = 48920496\n",
            "Generación 100: Mejor Fitness = 48920496\n",
            "Generación 101: Mejor Fitness = 48920496\n",
            "Generación 102: Mejor Fitness = 48920496\n",
            "Generación 103: Mejor Fitness = 48920496\n",
            "Generación 104: Mejor Fitness = 48920496\n",
            "Generación 105: Mejor Fitness = 48920496\n",
            "Generación 106: Mejor Fitness = 48920496\n",
            "Generación 107: Mejor Fitness = 48920496\n",
            "Generación 108: Mejor Fitness = 48920496\n",
            "Generación 109: Mejor Fitness = 48920496\n",
            "Generación 110: Mejor Fitness = 48920496\n",
            "Generación 111: Mejor Fitness = 48920496\n",
            "Generación 112: Mejor Fitness = 48920496\n",
            "Generación 113: Mejor Fitness = 48920496\n",
            "Generación 114: Mejor Fitness = 48920496\n",
            "Generación 115: Mejor Fitness = 48920496\n",
            "Generación 116: Mejor Fitness = 48920496\n",
            "Generación 117: Mejor Fitness = 48920496\n",
            "Generación 118: Mejor Fitness = 48920496\n",
            "Generación 119: Mejor Fitness = 48920496\n",
            "Generación 120: Mejor Fitness = 48920496\n",
            "Generación 121: Mejor Fitness = 48920496\n",
            "Generación 122: Mejor Fitness = 48920496\n",
            "Generación 123: Mejor Fitness = 48920496\n",
            "Generación 124: Mejor Fitness = 48920496\n",
            "Generación 125: Mejor Fitness = 48920496\n",
            "Generación 126: Mejor Fitness = 48920496\n",
            "Generación 127: Mejor Fitness = 48920496\n",
            "Generación 128: Mejor Fitness = 48920496\n",
            "Generación 129: Mejor Fitness = 48920496\n",
            "Generación 130: Mejor Fitness = 48920496\n",
            "Generación 131: Mejor Fitness = 48920496\n",
            "Generación 132: Mejor Fitness = 48920496\n",
            "Generación 133: Mejor Fitness = 48920496\n",
            "Generación 134: Mejor Fitness = 48920496\n",
            "Generación 135: Mejor Fitness = 48920496\n",
            "Generación 136: Mejor Fitness = 48920496\n",
            "Generación 137: Mejor Fitness = 48920496\n",
            "Generación 138: Mejor Fitness = 48920496\n",
            "Generación 139: Mejor Fitness = 48920496\n",
            "Generación 140: Mejor Fitness = 48920496\n",
            "Generación 141: Mejor Fitness = 48920496\n",
            "Generación 142: Mejor Fitness = 48920496\n",
            "Generación 143: Mejor Fitness = 48920496\n",
            "Generación 144: Mejor Fitness = 48920496\n",
            "Generación 145: Mejor Fitness = 48920496\n",
            "Generación 146: Mejor Fitness = 48920496\n",
            "Generación 147: Mejor Fitness = 48920496\n",
            "Generación 148: Mejor Fitness = 48920496\n",
            "Generación 149: Mejor Fitness = 48920496\n",
            "Generación 150: Mejor Fitness = 48920496\n",
            "Generación 151: Mejor Fitness = 48920496\n",
            "Generación 152: Mejor Fitness = 48920496\n",
            "Generación 153: Mejor Fitness = 48920496\n",
            "Generación 154: Mejor Fitness = 48920496\n",
            "Generación 155: Mejor Fitness = 48920496\n",
            "Generación 156: Mejor Fitness = 48920496\n",
            "Generación 157: Mejor Fitness = 48920496\n",
            "Generación 158: Mejor Fitness = 48920496\n",
            "Generación 159: Mejor Fitness = 48920496\n",
            "Generación 160: Mejor Fitness = 48920496\n",
            "Generación 161: Mejor Fitness = 48920496\n",
            "Generación 162: Mejor Fitness = 48920496\n",
            "Generación 163: Mejor Fitness = 48920496\n",
            "Generación 164: Mejor Fitness = 48920496\n",
            "Generación 165: Mejor Fitness = 48920496\n",
            "Generación 166: Mejor Fitness = 48920496\n",
            "Generación 167: Mejor Fitness = 48920496\n",
            "Generación 168: Mejor Fitness = 48920496\n",
            "Generación 169: Mejor Fitness = 48920496\n",
            "Generación 170: Mejor Fitness = 48920496\n",
            "Generación 171: Mejor Fitness = 48920496\n",
            "Generación 172: Mejor Fitness = 48920496\n",
            "Generación 173: Mejor Fitness = 48920496\n",
            "Generación 174: Mejor Fitness = 48920496\n",
            "Generación 175: Mejor Fitness = 48920496\n",
            "Generación 176: Mejor Fitness = 48920496\n",
            "Generación 177: Mejor Fitness = 48920496\n",
            "Generación 178: Mejor Fitness = 48920496\n",
            "Generación 179: Mejor Fitness = 48920496\n",
            "Generación 180: Mejor Fitness = 48920496\n",
            "Generación 181: Mejor Fitness = 48920496\n",
            "Generación 182: Mejor Fitness = 48920496\n",
            "Generación 183: Mejor Fitness = 48920496\n",
            "Generación 184: Mejor Fitness = 48920496\n",
            "Generación 185: Mejor Fitness = 48920496\n",
            "Generación 186: Mejor Fitness = 48920496\n",
            "Generación 187: Mejor Fitness = 48920496\n",
            "Generación 188: Mejor Fitness = 48920496\n",
            "Generación 189: Mejor Fitness = 48920496\n",
            "Generación 190: Mejor Fitness = 48920496\n",
            "Generación 191: Mejor Fitness = 48920496\n",
            "Generación 192: Mejor Fitness = 48920496\n",
            "Generación 193: Mejor Fitness = 48920496\n",
            "Generación 194: Mejor Fitness = 48920496\n",
            "Generación 195: Mejor Fitness = 48920496\n",
            "Generación 196: Mejor Fitness = 48920496\n",
            "Generación 197: Mejor Fitness = 48920496\n",
            "Generación 198: Mejor Fitness = 48920496\n",
            "Generación 199: Mejor Fitness = 48920496\n",
            "Generación 200: Mejor Fitness = 48920496\n",
            "Mejor solución encontrada: [219 210  38 233 108 135 131 198 250 204  67 168  88  79  95 116 156  12\n",
            "  18  78  24 122 238 159 239  85  90 172 211 103 102 194  36 240 127 185\n",
            "  42 177 218  33  91  55 140  20 208 244 236  25  29 136  48  99  61 155\n",
            " 206  84 147 180  34  73  70 221 216 228 245  81 248  82  76 167 200  46\n",
            " 175  52 169  56  27  58 133  22   4 150 253 251 179 118 112 190 161 230\n",
            " 213 113 205   3 132 181 157 214  26  53 153  28 242 146  45  35  98 176\n",
            " 145 121 125  93 232 158  92 171 183 184 165 164 101 141 114 120 191   0\n",
            "  16  66  14 193  64 137  59 227 229 148  47 128 124  71 195 254 252 174\n",
            "  57  74  31 163 222 246 129 235 234 202  40  50  21 226 162  69  51 196\n",
            "  32  54 182 215  13 107 188 197 130 217  75 203 119 117   2 126 247   1\n",
            " 223  63 209 255  11 170 225 237 166 224 111 199 154  97  49  77  83 241\n",
            " 173 207   6 139 109  15 231  68   9  60 160 189 110 220 138  72  96  86\n",
            "  19  41 142   7  65 201  62 106 144 187   8 100  94 149 143  17 243 123\n",
            " 192  39  10  37   5 151  80 104  44 178 105  43 212  89  30  23 186 249\n",
            " 115 152  87 134]\n",
            "Costo asociado: 48920496\n"
          ]
        }
      ],
      "source": [
        "generations = 200\n",
        "crossover_prob = 0.9\n",
        "mutation_prob = 0.3\n",
        "\n",
        "best_solution = None\n",
        "best_fitness = float('inf')\n",
        "\n",
        "fitness_vals = fitness_pop(population, flow, distances)\n",
        "\n",
        "for generation in range(generations):\n",
        "    # Aplicar la variante Baldwiniana: mejora de la población antes de la selección\n",
        "    improved_population = apply_baldwinian_search(population, flow, distances)\n",
        "\n",
        "    # Selección\n",
        "    selected_population = selection_tournament(improved_population, fitness_vals)\n",
        "\n",
        "    # Cruce\n",
        "    offspring = crossover_population(selected_population, crossover_prob)\n",
        "\n",
        "    # Mutación\n",
        "    population = mutate_population(offspring, mutation_prob)\n",
        "\n",
        "    # Recalcular fitness\n",
        "    fitness_vals = fitness_pop(population, flow, distances)\n",
        "\n",
        "    # Guardar el mejor individuo\n",
        "    gen_best_fitness = fitness_vals.min()\n",
        "    if gen_best_fitness < best_fitness:\n",
        "        best_fitness = gen_best_fitness\n",
        "        best_solution = population[np.argmin(fitness_vals)]\n",
        "\n",
        "    print(f\"Generación {generation + 1}: Mejor Fitness = {best_fitness}\")\n",
        "    if best_fitness <= 44759294:\n",
        "        print(\"Objetivo alcanzado, deteniendo el proceso.\")\n",
        "        break\n",
        "\n",
        "print(\"Mejor solución encontrada:\", best_solution)\n",
        "print(\"Costo asociado:\", best_fitness)\n"
      ]
    }
  ]
}